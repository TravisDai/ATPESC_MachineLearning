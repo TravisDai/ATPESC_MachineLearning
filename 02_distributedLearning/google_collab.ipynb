{
 "cells": [
  {
   "cell_type": "markdown",
   "metadata": {
    "colab_type": "text",
    "id": "4m3DHaH64qUL"
   },
   "source": [
    "# Data Parallel Deep Learning\n",
    "Huihuo Zheng <huihuo.zheng@anl.gov>\n",
    "\n",
    "Dated: 8/7/2020\n",
    "\n",
    "**Please go to https://colab.research.google.com/ to run this notebook**\n",
    "\n",
    "## Preparing environment\n",
    "\n",
    "### Check TensorFlow and PyTorch installation"
   ]
  },
  {
   "cell_type": "code",
   "execution_count": 2,
   "metadata": {
    "colab": {
     "base_uri": "https://localhost:8080/",
     "height": 51
    },
    "colab_type": "code",
    "id": "Dpd6e4LTzVlx",
    "outputId": "f71d9572-003b-4fbb-9f37-8c9e2125ff1d"
   },
   "outputs": [
    {
     "ename": "ModuleNotFoundError",
     "evalue": "No module named 'tensorflow'",
     "output_type": "error",
     "traceback": [
      "\u001b[0;31m---------------------------------------------------------------------------\u001b[0m",
      "\u001b[0;31mModuleNotFoundError\u001b[0m                       Traceback (most recent call last)",
      "\u001b[0;32m<ipython-input-2-f241db6e08d1>\u001b[0m in \u001b[0;36m<module>\u001b[0;34m\u001b[0m\n\u001b[0;32m----> 1\u001b[0;31m \u001b[0;32mimport\u001b[0m \u001b[0mtensorflow\u001b[0m \u001b[0;32mas\u001b[0m \u001b[0mtf\u001b[0m\u001b[0;34m\u001b[0m\u001b[0;34m\u001b[0m\u001b[0m\n\u001b[0m\u001b[1;32m      2\u001b[0m \u001b[0mprint\u001b[0m\u001b[0;34m(\u001b[0m\u001b[0;34m\"TensorFlow version: \"\u001b[0m\u001b[0;34m,\u001b[0m \u001b[0mtf\u001b[0m\u001b[0;34m.\u001b[0m\u001b[0m__version__\u001b[0m\u001b[0;34m)\u001b[0m\u001b[0;34m\u001b[0m\u001b[0;34m\u001b[0m\u001b[0m\n\u001b[1;32m      3\u001b[0m \u001b[0;32mimport\u001b[0m \u001b[0mtorch\u001b[0m\u001b[0;34m\u001b[0m\u001b[0;34m\u001b[0m\u001b[0m\n\u001b[1;32m      4\u001b[0m \u001b[0mprint\u001b[0m\u001b[0;34m(\u001b[0m\u001b[0;34m\"PyTorch version: \"\u001b[0m\u001b[0;34m,\u001b[0m \u001b[0mtorch\u001b[0m\u001b[0;34m.\u001b[0m\u001b[0m__version__\u001b[0m\u001b[0;34m)\u001b[0m\u001b[0;34m\u001b[0m\u001b[0;34m\u001b[0m\u001b[0m\n",
      "\u001b[0;31mModuleNotFoundError\u001b[0m: No module named 'tensorflow'"
     ]
    }
   ],
   "source": [
    "import tensorflow as tf\n",
    "print(\"TensorFlow version: \", tf.__version__)\n",
    "import torch\n",
    "print(\"PyTorch version: \", torch.__version__)"
   ]
  },
  {
   "cell_type": "markdown",
   "metadata": {
    "colab_type": "text",
    "id": "BxW2CPcj7M2b"
   },
   "source": [
    "### Install Horovod"
   ]
  },
  {
   "cell_type": "code",
   "execution_count": null,
   "metadata": {
    "colab": {
     "base_uri": "https://localhost:8080/",
     "height": 309
    },
    "colab_type": "code",
    "id": "x-Ak7EUl4yWI",
    "outputId": "738eff99-c75a-41cf-a881-5854979adb70"
   },
   "outputs": [
    {
     "name": "stdout",
     "output_type": "stream",
     "text": [
      "Collecting horovod\n",
      "\u001b[?25l  Downloading https://files.pythonhosted.org/packages/25/3a/289d100467ae33bce717daa3b285c72e0c82c761c5de37cc61940982c83c/horovod-0.19.5.tar.gz (2.9MB)\n",
      "\u001b[K     |████████████████████████████████| 2.9MB 9.3MB/s \n",
      "\u001b[?25hRequirement already satisfied: cloudpickle in /usr/local/lib/python3.6/dist-packages (from horovod) (1.3.0)\n",
      "Requirement already satisfied: psutil in /usr/local/lib/python3.6/dist-packages (from horovod) (5.4.8)\n",
      "Requirement already satisfied: pyyaml in /usr/local/lib/python3.6/dist-packages (from horovod) (3.13)\n",
      "Requirement already satisfied: six in /usr/local/lib/python3.6/dist-packages (from horovod) (1.15.0)\n",
      "Requirement already satisfied: cffi>=1.4.0 in /usr/local/lib/python3.6/dist-packages (from horovod) (1.14.1)\n",
      "Requirement already satisfied: pycparser in /usr/local/lib/python3.6/dist-packages (from cffi>=1.4.0->horovod) (2.20)\n",
      "Building wheels for collected packages: horovod\n",
      "  Building wheel for horovod (setup.py) ... \u001b[?25l\u001b[?25hdone\n",
      "  Created wheel for horovod: filename=horovod-0.19.5-cp36-cp36m-linux_x86_64.whl size=16660342 sha256=33218189d76ed7d4203d71df21d0252d68a60e5a7f256c039d09771a42bc2512\n",
      "  Stored in directory: /root/.cache/pip/wheels/c1/de/55/40364395c40c35292366a21572320a9b89029df9fb518b7668\n",
      "Successfully built horovod\n",
      "Installing collected packages: horovod\n",
      "Successfully installed horovod-0.19.5\n"
     ]
    }
   ],
   "source": [
    "! pip install horovod torchvision --upgrade"
   ]
  },
  {
   "cell_type": "code",
   "execution_count": null,
   "metadata": {
    "colab": {
     "base_uri": "https://localhost:8080/",
     "height": 34
    },
    "colab_type": "code",
    "id": "0i7TfGSQzaUs",
    "outputId": "bb2671a2-89d7-469a-cc61-89d6e92bfc80"
   },
   "outputs": [
    {
     "name": "stdout",
     "output_type": "stream",
     "text": [
      "0 1\n"
     ]
    }
   ],
   "source": [
    "import horovod.tensorflow as hvd\n",
    "hvd.init()\n",
    "print(hvd.rank(), hvd.size())"
   ]
  },
  {
   "cell_type": "code",
   "execution_count": null,
   "metadata": {
    "colab": {
     "base_uri": "https://localhost:8080/",
     "height": 34
    },
    "colab_type": "code",
    "id": "apVZhIVBzdZW",
    "outputId": "3beb61d6-afea-46a1-dbd5-36a7059f9d81"
   },
   "outputs": [
    {
     "name": "stdout",
     "output_type": "stream",
     "text": [
      "0 1\n"
     ]
    }
   ],
   "source": [
    "import horovod.torch as hvd\n",
    "hvd.init()\n",
    "print(hvd.rank(), hvd.size())"
   ]
  },
  {
   "cell_type": "markdown",
   "metadata": {
    "colab": {},
    "colab_type": "code",
    "id": "3GKYGzi95WCr"
   },
   "source": [
    "### Running with MPI"
   ]
  },
  {
   "cell_type": "code",
   "execution_count": null,
   "metadata": {
    "colab": {
     "base_uri": "https://localhost:8080/",
     "height": 34
    },
    "colab_type": "code",
    "id": "aN7FtJbtzh_t",
    "outputId": "f62bd021-cca2-4bd8-8af5-b7fb4ba8f6fa"
   },
   "outputs": [
    {
     "name": "stdout",
     "output_type": "stream",
     "text": [
      "/usr/bin/mpirun\n"
     ]
    }
   ],
   "source": [
    "! which mpirun"
   ]
  },
  {
   "cell_type": "code",
   "execution_count": null,
   "metadata": {
    "colab": {
     "base_uri": "https://localhost:8080/",
     "height": 85
    },
    "colab_type": "code",
    "id": "K4UwyDpH03zs",
    "outputId": "b6b0d5af-a645-4cf9-b0ae-59511cf57e59"
   },
   "outputs": [
    {
     "name": "stdout",
     "output_type": "stream",
     "text": [
      "2020-08-07 08:11:08.612373: I tensorflow/stream_executor/platform/default/dso_loader.cc:48] Successfully opened dynamic library libcudart.so.10.1\n",
      "2020-08-07 08:11:08.612373: I tensorflow/stream_executor/platform/default/dso_loader.cc:48] Successfully opened dynamic library libcudart.so.10.1\n",
      "I'm 1 of 2\n",
      "I'm 0 of 2\n"
     ]
    }
   ],
   "source": [
    "! mpirun --allow-run-as-root -np 2 python -c \"import horovod.tensorflow as hvd; hvd.init(); print('I\\'m %s of %s' %(hvd.rank(), hvd.size()))\""
   ]
  },
  {
   "cell_type": "markdown",
   "metadata": {
    "colab_type": "text",
    "id": "9u_hYzg8Alqg"
   },
   "source": [
    "## Running Data Parallel MNIST examples "
   ]
  },
  {
   "cell_type": "code",
   "execution_count": null,
   "metadata": {
    "colab": {
     "base_uri": "https://localhost:8080/",
     "height": 136
    },
    "colab_type": "code",
    "id": "dnda-80C3XDB",
    "outputId": "f5ba192c-0614-45b6-df5a-9a311b5ac626"
   },
   "outputs": [
    {
     "name": "stdout",
     "output_type": "stream",
     "text": [
      "Cloning into 'ATPESC_MachineLearning'...\n",
      "remote: Enumerating objects: 103, done.\u001b[K\n",
      "remote: Counting objects: 100% (103/103), done.\u001b[K\n",
      "remote: Compressing objects: 100% (80/80), done.\u001b[K\n",
      "remote: Total 192 (delta 46), reused 63 (delta 22), pack-reused 89\u001b[K\n",
      "Receiving objects: 100% (192/192), 82.38 MiB | 1.55 MiB/s, done.\n",
      "Resolving deltas: 100% (61/61), done.\n"
     ]
    }
   ],
   "source": [
    "! git clone https://github.com/argonne-lcf/ATPESC_MachineLearning.git"
   ]
  },
  {
   "cell_type": "code",
   "execution_count": null,
   "metadata": {
    "colab": {
     "base_uri": "https://localhost:8080/",
     "height": 34
    },
    "colab_type": "code",
    "id": "QeYwX2LB3ZHi",
    "outputId": "db5ad929-f654-460a-f36e-f83095bd2c96"
   },
   "outputs": [
    {
     "name": "stdout",
     "output_type": "stream",
     "text": [
      "/content/ATPESC_MachineLearning/DataParallelDeepLearning\n"
     ]
    }
   ],
   "source": [
    "% cd ATPESC_MachineLearning/DataParallelDeepLearning/"
   ]
  },
  {
   "cell_type": "code",
   "execution_count": null,
   "metadata": {
    "colab": {
     "base_uri": "https://localhost:8080/",
     "height": 119
    },
    "colab_type": "code",
    "id": "-jwhDDuM3aSJ",
    "outputId": "cd780e7d-34ea-449d-9c53-3a665988bbd3"
   },
   "outputs": [
    {
     "name": "stdout",
     "output_type": "stream",
     "text": [
      "keras_imagenet_resnet50.py\tsumissions\n",
      "keras_mnist.py\t\t\ttensorflow2_keras_mnist.py\n",
      "pytorch_imagenet_resnet50.py\ttensorflow2_mnist.py\n",
      "pytorch_mnist.py\t\ttensorflow_mnist.py\n",
      "pytorch_synthetic_benchmark.py\ttensorflow_synthetic_benchmark.py\n",
      "README.md\n"
     ]
    }
   ],
   "source": [
    "! ls"
   ]
  },
  {
   "cell_type": "code",
   "execution_count": null,
   "metadata": {
    "colab": {
     "base_uri": "https://localhost:8080/",
     "height": 1000
    },
    "colab_type": "code",
    "id": "Zutbbp-H55RL",
    "outputId": "9196a371-f0f5-469a-909e-0732b503bffd"
   },
   "outputs": [
    {
     "name": "stdout",
     "output_type": "stream",
     "text": [
      "2020-08-07 08:22:03.209023: I tensorflow/stream_executor/platform/default/dso_loader.cc:48] Successfully opened dynamic library libcudart.so.10.1\n",
      "2020-08-07 08:22:03.271752: I tensorflow/stream_executor/platform/default/dso_loader.cc:48] Successfully opened dynamic library libcudart.so.10.1\n",
      "2020-08-07 08:22:03.394057: I tensorflow/stream_executor/platform/default/dso_loader.cc:48] Successfully opened dynamic library libcudart.so.10.1\n",
      "2020-08-07 08:22:03.438740: I tensorflow/stream_executor/platform/default/dso_loader.cc:48] Successfully opened dynamic library libcudart.so.10.1\n",
      "2020-08-07 08:22:19.398905: I tensorflow/stream_executor/platform/default/dso_loader.cc:48] Successfully opened dynamic library libcuda.so.1\n",
      "2020-08-07 08:22:19.398691: I tensorflow/stream_executor/platform/default/dso_loader.cc:48] Successfully opened dynamic library libcuda.so.1\n",
      "2020-08-07 08:22:19.400296: I tensorflow/stream_executor/platform/default/dso_loader.cc:48] Successfully opened dynamic library libcuda.so.1\n",
      "2020-08-07 08:22:19.401936: I tensorflow/stream_executor/platform/default/dso_loader.cc:48] Successfully opened dynamic library libcuda.so.1\n",
      "2020-08-07 08:22:19.406722: E tensorflow/stream_executor/cuda/cuda_driver.cc:314] failed call to cuInit: CUDA_ERROR_NO_DEVICE: no CUDA-capable device is detected\n",
      "2020-08-07 08:22:19.406835: I tensorflow/stream_executor/cuda/cuda_diagnostics.cc:156] kernel driver does not appear to be running on this host (d570d8526b8b): /proc/driver/nvidia/version does not exist\n",
      "2020-08-07 08:22:19.410316: E tensorflow/stream_executor/cuda/cuda_driver.cc:314] failed call to cuInit: CUDA_ERROR_NO_DEVICE: no CUDA-capable device is detected\n",
      "2020-08-07 08:22:19.414945: E tensorflow/stream_executor/cuda/cuda_driver.cc:314] failed call to cuInit: CUDA_ERROR_NO_DEVICE: no CUDA-capable device is detected\n",
      "2020-08-07 08:22:19.415218: E tensorflow/stream_executor/cuda/cuda_driver.cc:314] failed call to cuInit: CUDA_ERROR_NO_DEVICE: no CUDA-capable device is detected\n",
      "2020-08-07 08:22:19.415293: I tensorflow/stream_executor/cuda/cuda_diagnostics.cc:156] kernel driver does not appear to be running on this host (d570d8526b8b): /proc/driver/nvidia/version does not exist\n",
      "Downloading data from https://storage.googleapis.com/tensorflow/tf-keras-datasets/mnist.npz\n",
      "2020-08-07 08:22:19.416061: I tensorflow/stream_executor/cuda/cuda_diagnostics.cc:156] kernel driver does not appear to be running on this host (d570d8526b8b): /proc/driver/nvidia/version does not exist\n",
      "2020-08-07 08:22:19.416769: I tensorflow/stream_executor/cuda/cuda_diagnostics.cc:156] kernel driver does not appear to be running on this host (d570d8526b8b): /proc/driver/nvidia/version does not exist\n",
      "Downloading data from https://storage.googleapis.com/tensorflow/tf-keras-datasets/mnist.npz\n",
      "11493376/11490434 [==============================] - 1s 0us/step\n",
      "11493376/11490434 [==============================] - 1s 0us/step\n",
      "2020-08-07 08:22:23.472176: I tensorflow/core/platform/profile_utils/cpu_utils.cc:104] CPU Frequency: 2300000000 Hz\n",
      "2020-08-07 08:22:23.473224: I tensorflow/compiler/xla/service/service.cc:168] XLA service 0x18a8840 initialized for platform Host (this does not guarantee that XLA will be used). Devices:\n",
      "2020-08-07 08:22:23.473261: I tensorflow/compiler/xla/service/service.cc:176]   StreamExecutor device (0): Host, Default Version\n",
      "2020-08-07 08:22:23.929421: I tensorflow/core/platform/profile_utils/cpu_utils.cc:104] CPU Frequency: 2300000000 Hz\n",
      "2020-08-07 08:22:23.930234: I tensorflow/compiler/xla/service/service.cc:168] XLA service 0x15be840 initialized for platform Host (this does not guarantee that XLA will be used). Devices:\n",
      "2020-08-07 08:22:23.930363: I tensorflow/compiler/xla/service/service.cc:176]   StreamExecutor device (0): Host, Default Version\n",
      "2020-08-07 08:22:24.160164: I tensorflow/core/platform/profile_utils/cpu_utils.cc:104] CPU Frequency: 2300000000 Hz\n",
      "2020-08-07 08:22:24.163361: I tensorflow/compiler/xla/service/service.cc:168] XLA service 0x2a2e840 initialized for platform Host (this does not guarantee that XLA will be used). Devices:\n",
      "2020-08-07 08:22:24.163429: I tensorflow/compiler/xla/service/service.cc:176]   StreamExecutor device (0): Host, Default Version\n",
      "2020-08-07 08:22:24.747048: I tensorflow/core/platform/profile_utils/cpu_utils.cc:104] CPU Frequency: 2300000000 Hz\n",
      "2020-08-07 08:22:24.749558: I tensorflow/compiler/xla/service/service.cc:168] XLA service 0x2604840 initialized for platform Host (this does not guarantee that XLA will be used). Devices:\n",
      "2020-08-07 08:22:24.749626: I tensorflow/compiler/xla/service/service.cc:176]   StreamExecutor device (0): Host, Default Version\n",
      "Step #0\tLoss: 2.300679\n",
      "Step #10\tLoss: 0.508212\n",
      "Step #20\tLoss: 0.404528\n",
      "Step #30\tLoss: 0.189640\n",
      "Step #40\tLoss: 0.151599\n",
      "Step #50\tLoss: 0.129019\n",
      "Step #60\tLoss: 0.082019\n",
      "Step #70\tLoss: 0.088451\n",
      "Step #80\tLoss: 0.070408\n",
      "Step #90\tLoss: 0.038646\n",
      "Step #100\tLoss: 0.077162\n",
      "Step #110\tLoss: 0.085395\n",
      "Step #120\tLoss: 0.067563\n",
      "Step #130\tLoss: 0.117961\n",
      "Step #140\tLoss: 0.079256\n",
      "Step #150\tLoss: 0.086384\n",
      "Step #160\tLoss: 0.054122\n",
      "Step #170\tLoss: 0.067595\n",
      "Step #180\tLoss: 0.078890\n",
      "Step #190\tLoss: 0.094433\n",
      "Step #200\tLoss: 0.214221\n",
      "Step #210\tLoss: 0.024830\n",
      "Step #220\tLoss: 0.109196\n",
      "Step #230\tLoss: 0.028280\n",
      "Step #240\tLoss: 0.010397\n",
      "Step #250\tLoss: 0.089724\n",
      "Step #260\tLoss: 0.068409\n",
      "Step #270\tLoss: 0.063733\n",
      "Step #280\tLoss: 0.036383\n",
      "Step #290\tLoss: 0.097027\n",
      "Step #300\tLoss: 0.089170\n",
      "Step #310\tLoss: 0.052754\n",
      "Step #320\tLoss: 0.047958\n",
      "Step #330\tLoss: 0.080815\n",
      "Step #340\tLoss: 0.039781\n",
      "Step #350\tLoss: 0.055011\n",
      "Step #360\tLoss: 0.059734\n",
      "Step #370\tLoss: 0.055086\n",
      "Step #380\tLoss: 0.016060\n",
      "Step #390\tLoss: 0.024170\n",
      "Step #400\tLoss: 0.022364\n",
      "Step #410\tLoss: 0.015633\n",
      "Step #420\tLoss: 0.017948\n",
      "Step #430\tLoss: 0.037311\n",
      "Step #440\tLoss: 0.124680\n",
      "Step #450\tLoss: 0.058961\n",
      "Step #460\tLoss: 0.075008\n",
      "Step #470\tLoss: 0.005140\n",
      "Step #480\tLoss: 0.073047\n",
      "Step #490\tLoss: 0.053760\n",
      "Step #500\tLoss: 0.032219\n",
      "Step #510\tLoss: 0.118854\n",
      "Step #520\tLoss: 0.055958\n",
      "Step #530\tLoss: 0.007148\n",
      "Step #540\tLoss: 0.008706\n",
      "Step #550\tLoss: 0.002362\n",
      "Step #560\tLoss: 0.047041\n",
      "Step #570\tLoss: 0.003408\n",
      "Step #580\tLoss: 0.075747\n",
      "Step #590\tLoss: 0.109247\n",
      "Step #600\tLoss: 0.011867\n",
      "Step #610\tLoss: 0.005003\n",
      "Step #620\tLoss: 0.044238\n",
      "Step #630\tLoss: 0.051357\n",
      "Step #640\tLoss: 0.029612\n",
      "Step #650\tLoss: 0.013157\n",
      "Step #660\tLoss: 0.094977\n",
      "Step #670\tLoss: 0.008562\n",
      "Step #680\tLoss: 0.037392\n",
      "Step #690\tLoss: 0.038586\n",
      "Step #700\tLoss: 0.032363\n",
      "Step #710\tLoss: 0.011110\n",
      "Step #720\tLoss: 0.030201\n",
      "Step #730\tLoss: 0.034539\n",
      "Step #740\tLoss: 0.003586\n",
      "Step #750\tLoss: 0.046297\n",
      "Step #760\tLoss: 0.047278\n",
      "Step #770\tLoss: 0.012261\n",
      "Step #780\tLoss: 0.062324\n",
      "Step #790\tLoss: 0.027096\n",
      "Step #800\tLoss: 0.016523\n",
      "Step #810\tLoss: 0.048958\n",
      "Step #820\tLoss: 0.054877\n",
      "Step #830\tLoss: 0.053841\n",
      "Step #840\tLoss: 0.021900\n",
      "Step #850\tLoss: 0.020670\n",
      "Step #860\tLoss: 0.070575\n",
      "Step #870\tLoss: 0.003817\n",
      "Step #880\tLoss: 0.034586\n",
      "Step #890\tLoss: 0.008112\n",
      "Step #900\tLoss: 0.027054\n",
      "Step #910\tLoss: 0.038296\n",
      "Step #920\tLoss: 0.009467\n",
      "Step #930\tLoss: 0.052874\n",
      "Step #940\tLoss: 0.053998\n",
      "Step #950\tLoss: 0.006817\n",
      "Step #960\tLoss: 0.014634\n",
      "Step #970\tLoss: 0.020211\n",
      "Step #980\tLoss: 0.018713\n",
      "Step #990\tLoss: 0.019303\n",
      "Step #1000\tLoss: 0.063957\n",
      "Step #1010\tLoss: 0.017070\n",
      "Step #1020\tLoss: 0.021945\n",
      "Step #1030\tLoss: 0.036747\n",
      "Step #1040\tLoss: 0.033593\n",
      "Step #1050\tLoss: 0.021114\n",
      "Step #1060\tLoss: 0.046740\n",
      "Step #1070\tLoss: 0.025284\n",
      "Step #1080\tLoss: 0.086413\n",
      "Step #1090\tLoss: 0.033662\n",
      "Step #1100\tLoss: 0.012850\n",
      "Step #1110\tLoss: 0.026038\n",
      "Step #1120\tLoss: 0.007603\n",
      "Step #1130\tLoss: 0.021688\n",
      "Step #1140\tLoss: 0.008829\n",
      "Step #1150\tLoss: 0.013452\n",
      "Step #1160\tLoss: 0.019233\n",
      "Step #1170\tLoss: 0.007628\n",
      "Step #1180\tLoss: 0.005615\n",
      "Step #1190\tLoss: 0.020846\n",
      "Step #1200\tLoss: 0.008479\n",
      "Step #1210\tLoss: 0.020924\n",
      "Step #1220\tLoss: 0.029908\n",
      "Step #1230\tLoss: 0.019096\n",
      "Step #1240\tLoss: 0.043722\n",
      "Step #1250\tLoss: 0.040984\n",
      "Step #1260\tLoss: 0.027736\n",
      "Step #1270\tLoss: 0.027757\n",
      "Step #1280\tLoss: 0.004733\n",
      "Step #1290\tLoss: 0.009972\n",
      "Step #1300\tLoss: 0.047372\n",
      "Step #1310\tLoss: 0.016501\n",
      "Step #1320\tLoss: 0.037930\n",
      "Step #1330\tLoss: 0.049901\n",
      "Step #1340\tLoss: 0.002269\n",
      "Step #1350\tLoss: 0.003617\n",
      "Step #1360\tLoss: 0.008696\n",
      "Step #1370\tLoss: 0.002894\n",
      "Step #1380\tLoss: 0.011066\n",
      "Step #1390\tLoss: 0.022573\n",
      "Step #1400\tLoss: 0.008602\n",
      "Step #1410\tLoss: 0.004555\n",
      "Step #1420\tLoss: 0.018993\n",
      "Step #1430\tLoss: 0.010049\n",
      "Step #1440\tLoss: 0.002142\n",
      "Step #1450\tLoss: 0.015138\n",
      "Step #1460\tLoss: 0.009102\n",
      "Step #1470\tLoss: 0.022636\n",
      "Step #1480\tLoss: 0.009536\n",
      "Step #1490\tLoss: 0.002495\n",
      "Step #1500\tLoss: 0.025953\n",
      "Step #1510\tLoss: 0.014056\n",
      "Step #1520\tLoss: 0.008524\n",
      "Step #1530\tLoss: 0.008849\n",
      "Step #1540\tLoss: 0.006095\n",
      "Step #1550\tLoss: 0.012709\n",
      "Step #1560\tLoss: 0.007926\n",
      "Step #1570\tLoss: 0.024823\n",
      "Step #1580\tLoss: 0.074529\n",
      "Step #1590\tLoss: 0.016877\n",
      "Step #1600\tLoss: 0.009982\n",
      "Step #1610\tLoss: 0.027093\n",
      "Step #1620\tLoss: 0.014720\n",
      "Step #1630\tLoss: 0.007287\n",
      "Step #1640\tLoss: 0.014233\n",
      "Step #1650\tLoss: 0.005282\n",
      "Step #1660\tLoss: 0.033253\n",
      "Step #1670\tLoss: 0.025823\n",
      "Step #1680\tLoss: 0.005770\n",
      "Step #1690\tLoss: 0.010056\n",
      "Step #1700\tLoss: 0.005948\n",
      "Step #1710\tLoss: 0.016331\n",
      "Step #1720\tLoss: 0.006203\n",
      "Step #1730\tLoss: 0.005547\n",
      "Step #1740\tLoss: 0.055201\n",
      "Step #1750\tLoss: 0.023262\n",
      "Step #1760\tLoss: 0.004950\n",
      "Step #1770\tLoss: 0.003585\n",
      "Step #1780\tLoss: 0.004752\n",
      "Step #1790\tLoss: 0.058558\n",
      "Step #1800\tLoss: 0.011532\n",
      "Step #1810\tLoss: 0.020381\n",
      "Step #1820\tLoss: 0.012013\n",
      "Step #1830\tLoss: 0.021711\n",
      "Step #1840\tLoss: 0.044371\n",
      "Step #1850\tLoss: 0.002040\n",
      "Step #1860\tLoss: 0.040706\n",
      "Step #1870\tLoss: 0.003948\n",
      "Step #1880\tLoss: 0.010544\n",
      "Step #1890\tLoss: 0.016194\n",
      "Step #1900\tLoss: 0.004335\n",
      "Step #1910\tLoss: 0.000632\n",
      "Step #1920\tLoss: 0.021354\n",
      "Step #1930\tLoss: 0.007316\n",
      "Step #1940\tLoss: 0.026470\n",
      "Step #1950\tLoss: 0.005006\n",
      "Step #1960\tLoss: 0.007374\n",
      "Step #1970\tLoss: 0.021463\n",
      "Step #1980\tLoss: 0.002673\n",
      "Step #1990\tLoss: 0.015400\n",
      "Step #2000\tLoss: 0.001009\n",
      "Step #2010\tLoss: 0.004195\n",
      "Step #2020\tLoss: 0.017768\n",
      "Step #2030\tLoss: 0.017705\n",
      "Step #2040\tLoss: 0.005296\n",
      "Step #2050\tLoss: 0.013809\n",
      "Step #2060\tLoss: 0.000424\n",
      "Step #2070\tLoss: 0.013876\n",
      "Step #2080\tLoss: 0.003069\n",
      "Step #2090\tLoss: 0.040677\n",
      "Step #2100\tLoss: 0.012224\n",
      "Step #2110\tLoss: 0.016482\n",
      "Step #2120\tLoss: 0.002196\n",
      "Step #2130\tLoss: 0.021231\n",
      "Step #2140\tLoss: 0.005514\n",
      "Step #2150\tLoss: 0.012431\n",
      "Step #2160\tLoss: 0.049248\n",
      "Step #2170\tLoss: 0.010251\n",
      "Step #2180\tLoss: 0.004533\n",
      "Step #2190\tLoss: 0.001342\n",
      "Step #2200\tLoss: 0.047362\n",
      "Step #2210\tLoss: 0.000769\n",
      "Step #2220\tLoss: 0.004748\n",
      "Step #2230\tLoss: 0.004811\n",
      "Step #2240\tLoss: 0.002273\n",
      "Step #2250\tLoss: 0.007309\n",
      "Step #2260\tLoss: 0.005320\n",
      "Step #2270\tLoss: 0.013154\n",
      "Step #2280\tLoss: 0.002315\n",
      "Step #2290\tLoss: 0.002309\n",
      "Step #2300\tLoss: 0.026498\n",
      "Step #2310\tLoss: 0.013336\n",
      "Step #2320\tLoss: 0.013544\n",
      "Step #2330\tLoss: 0.001784\n",
      "Step #2340\tLoss: 0.025521\n",
      "Step #2350\tLoss: 0.014070\n",
      "Step #2360\tLoss: 0.010326\n",
      "Step #2370\tLoss: 0.033998\n",
      "Step #2380\tLoss: 0.008214\n",
      "Step #2390\tLoss: 0.013353\n",
      "Step #2400\tLoss: 0.061634\n",
      "Step #2410\tLoss: 0.004460\n",
      "Step #2420\tLoss: 0.027446\n",
      "Step #2430\tLoss: 0.002963\n",
      "Step #2440\tLoss: 0.016460\n",
      "Step #2450\tLoss: 0.019501\n",
      "Step #2460\tLoss: 0.007536\n",
      "Step #2470\tLoss: 0.004498\n",
      "Step #2480\tLoss: 0.005969\n",
      "Step #2490\tLoss: 0.002655\n"
     ]
    }
   ],
   "source": [
    "! mpirun --allow-run-as-root -np 4 python ./pytorch_mnist.py"
   ]
  },
  {
   "cell_type": "code",
   "execution_count": null,
   "metadata": {
    "colab": {
     "base_uri": "https://localhost:8080/",
     "height": 530
    },
    "colab_type": "code",
    "id": "lVDjTQcg7Cj0",
    "outputId": "e4a82fe3-4945-4435-8447-8b3c804bd0c8"
   },
   "outputs": [
    {
     "name": "stdout",
     "output_type": "stream",
     "text": [
      "2020-08-07 07:57:02.401245: I tensorflow/stream_executor/platform/default/dso_loader.cc:48] Successfully opened dynamic library libcudart.so.10.1\n",
      "2020-08-07 07:57:02.626818: I tensorflow/stream_executor/platform/default/dso_loader.cc:48] Successfully opened dynamic library libcudart.so.10.1\n",
      "2020-08-07 07:57:06.215962: I tensorflow/stream_executor/platform/default/dso_loader.cc:48] Successfully opened dynamic library libcuda.so.1\n",
      "2020-08-07 07:57:06.220007: I tensorflow/stream_executor/platform/default/dso_loader.cc:48] Successfully opened dynamic library libcuda.so.1\n",
      "2020-08-07 07:57:06.227021: E tensorflow/stream_executor/cuda/cuda_driver.cc:314] failed call to cuInit: CUDA_ERROR_NO_DEVICE: no CUDA-capable device is detected\n",
      "2020-08-07 07:57:06.227077: I tensorflow/stream_executor/cuda/cuda_diagnostics.cc:156] kernel driver does not appear to be running on this host (d570d8526b8b): /proc/driver/nvidia/version does not exist\n",
      "2020-08-07 07:57:06.228596: E tensorflow/stream_executor/cuda/cuda_driver.cc:314] failed call to cuInit: CUDA_ERROR_NO_DEVICE: no CUDA-capable device is detected\n",
      "2020-08-07 07:57:06.228639: I tensorflow/stream_executor/cuda/cuda_diagnostics.cc:156] kernel driver does not appear to be running on this host (d570d8526b8b): /proc/driver/nvidia/version does not exist\n",
      "2020-08-07 07:57:07.056689: I tensorflow/core/platform/profile_utils/cpu_utils.cc:104] CPU Frequency: 2300000000 Hz\n",
      "2020-08-07 07:57:07.056972: I tensorflow/compiler/xla/service/service.cc:168] XLA service 0x1ee6840 initialized for platform Host (this does not guarantee that XLA will be used). Devices:\n",
      "2020-08-07 07:57:07.056997: I tensorflow/compiler/xla/service/service.cc:176]   StreamExecutor device (0): Host, Default Version\n",
      "2020-08-07 07:57:07.514716: I tensorflow/core/platform/profile_utils/cpu_utils.cc:104] CPU Frequency: 2300000000 Hz\n",
      "2020-08-07 07:57:07.514949: I tensorflow/compiler/xla/service/service.cc:168] XLA service 0x1398840 initialized for platform Host (this does not guarantee that XLA will be used). Devices:\n",
      "2020-08-07 07:57:07.514978: I tensorflow/compiler/xla/service/service.cc:176]   StreamExecutor device (0): Host, Default Version\n",
      "Step #0\tLoss: 2.306748\n",
      "Step #10\tLoss: 0.623602\n",
      "Step #20\tLoss: 0.627456\n",
      "Step #30\tLoss: 0.362009\n",
      "Step #40\tLoss: 0.242407\n",
      "Step #50\tLoss: 0.245905\n",
      "Step #60\tLoss: 0.170633\n",
      "Step #70\tLoss: 0.121411\n",
      "Step #80\tLoss: 0.221444\n",
      "Step #90\tLoss: 0.079819\n",
      "Step #100\tLoss: 0.146981\n",
      "Step #110\tLoss: 0.185706\n",
      "Step #120\tLoss: 0.082377\n",
      "Step #130\tLoss: 0.065458\n",
      "Step #140\tLoss: 0.218681\n"
     ]
    }
   ],
   "source": [
    "! mpirun --allow-run-as-root -np 4 python ./tensorflow2_mnist.py"
   ]
  },
  {
   "cell_type": "code",
   "execution_count": null,
   "metadata": {
    "colab": {
     "base_uri": "https://localhost:8080/",
     "height": 238
    },
    "colab_type": "code",
    "id": "3xX_1dQY7FMA",
    "outputId": "931d533d-47f5-4729-8cde-d8063a9f0267"
   },
   "outputs": [
    {
     "name": "stdout",
     "output_type": "stream",
     "text": [
      "python3: can't open file './tensorflow2_keras_mnist.py': [Errno 2] No such file or directory\n",
      "-------------------------------------------------------\n",
      "Primary job  terminated normally, but 1 process returned\n",
      "a non-zero exit code.. Per user-direction, the job has been aborted.\n",
      "-------------------------------------------------------\n",
      "python3: can't open file './tensorflow2_keras_mnist.py': [Errno 2] No such file or directory\n",
      "--------------------------------------------------------------------------\n",
      "mpirun detected that one or more processes exited with non-zero status, thus causing\n",
      "the job to be terminated. The first process to do so was:\n",
      "\n",
      "  Process name: [[221,1],1]\n",
      "  Exit code:    2\n",
      "--------------------------------------------------------------------------\n"
     ]
    }
   ],
   "source": [
    "! mpirun --allow-run-as-root -np 4 python ./tensorflow2_keras_mnist.py"
   ]
  }
 ],
 "metadata": {
  "colab": {
   "name": "tensorflow.ipynb",
   "provenance": []
  },
  "kernelspec": {
   "display_name": "Python 3",
   "language": "python",
   "name": "python3"
  },
  "language_info": {
   "codemirror_mode": {
    "name": "ipython",
    "version": 3
   },
   "file_extension": ".py",
   "mimetype": "text/x-python",
   "name": "python",
   "nbconvert_exporter": "python",
   "pygments_lexer": "ipython3",
   "version": "3.6.9"
  }
 },
 "nbformat": 4,
 "nbformat_minor": 4
}

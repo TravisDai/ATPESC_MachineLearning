{
 "cells": [
  {
   "cell_type": "markdown",
   "metadata": {},
   "source": [
    "# MNIST handwritten digits classification with MLPs\n",
    "\n",
    "Author: Bethany Lusch, adapting codes from Prasanna Balprakash, Corey Adams, and Kyle Felker\n",
    "\n",
    "In this notebook, we'll continue the MNIST problem but using the Keras API (as included in the TensorFlow library)\n",
    "\n",
    "First, the needed imports."
   ]
  },
  {
   "cell_type": "code",
   "execution_count": 1,
   "metadata": {},
   "outputs": [],
   "source": [
    "%matplotlib inline\n",
    "\n",
    "import tensorflow as tf\n",
    "\n",
    "import numpy\n",
    "import matplotlib.pyplot as plt\n",
    "import time"
   ]
  },
  {
   "cell_type": "markdown",
   "metadata": {},
   "source": [
    "## MNIST data set\n",
    "\n",
    "Again we'll load the MNIST handwritten digits data set.  If you haven't downloaded it already, it could take a while.\n"
   ]
  },
  {
   "cell_type": "code",
   "execution_count": 2,
   "metadata": {},
   "outputs": [
    {
     "name": "stdout",
     "output_type": "stream",
     "text": [
      "\n",
      "MNIST data loaded: train: 60000 test: 10000\n",
      "X_train: (60000, 28, 28)\n",
      "y_train: (60000,)\n"
     ]
    }
   ],
   "source": [
    "(x_train, y_train), (x_test, y_test) = tf.keras.datasets.mnist.load_data()\n",
    "x_train = x_train.astype(numpy.float32)\n",
    "x_test  = x_test.astype(numpy.float32)\n",
    "\n",
    "x_train /= 255.\n",
    "x_test  /= 255.\n",
    "\n",
    "y_train = y_train.astype(numpy.int32)\n",
    "y_test  = y_test.astype(numpy.int32)\n",
    "\n",
    "print()\n",
    "print('MNIST data loaded: train:',len(x_train),'test:',len(x_test))\n",
    "print('X_train:', x_train.shape)\n",
    "print('y_train:', y_train.shape)"
   ]
  },
  {
   "cell_type": "markdown",
   "metadata": {},
   "source": [
    "This time we won't flatten the images upfront. \n",
    "\n",
    "The training data (`X_train`) is a 3rd-order tensor of size (60000, 28, 28), i.e. it consists of 60000 images of size 28x28 pixels. \n",
    "\n",
    "`y_train` is a 60000-dimensional vector containing the correct classes (\"0\", \"1\", ..., \"9\") for each training sample."
   ]
  },
  {
   "cell_type": "markdown",
   "metadata": {},
   "source": [
    "## Linear model\n",
    "\n",
    "### Initialization\n",
    "\n",
    "Let's begin with a simple linear model, but with the Keras library. First we use a `Flatten` layer to convert image data into vectors. \n",
    "\n",
    "Then we add a `Dense` layer that has 28*28=784 input nodes (one for each pixel in the input image) and 10 output nodes. The `Dense` layer connects each input to each output with some weight parameter. "
   ]
  },
  {
   "cell_type": "code",
   "execution_count": 3,
   "metadata": {},
   "outputs": [],
   "source": [
    "class LinearClassifier(tf.keras.models.Model):\n",
    "\n",
    "    def __init__(self, activation=tf.nn.tanh):\n",
    "        tf.keras.models.Model.__init__(self)\n",
    "\n",
    "        self.layer_1 = tf.keras.layers.Dense(10, activation='softmax')\n",
    "\n",
    "\n",
    "    def call(self, inputs):\n",
    "\n",
    "        x = tf.keras.layers.Flatten()(inputs)\n",
    "        x = self.layer_1(x)\n",
    "\n",
    "        return x"
   ]
  },
  {
   "cell_type": "markdown",
   "metadata": {},
   "source": [
    "We select *sparse categorical crossentropy* as the loss function, select [*stochastic gradient descent*](https://keras.io/optimizers/#sgd) as the optimizer, add *accuracy* to the list of metrics to be evaluated, and `compile()` the model. Note there are [several different options](https://keras.io/optimizers/) for the optimizer in Keras that we could use instead of *sgd*."
   ]
  },
  {
   "cell_type": "code",
   "execution_count": 4,
   "metadata": {},
   "outputs": [],
   "source": [
    "linear_model = LinearClassifier()\n",
    "\n",
    "linear_model.compile(loss=\"sparse_categorical_crossentropy\", optimizer=\"sgd\", metrics=['accuracy'])"
   ]
  },
  {
   "cell_type": "markdown",
   "metadata": {},
   "source": [
    "### Learning"
   ]
  },
  {
   "cell_type": "markdown",
   "metadata": {},
   "source": [
    "Now we are ready to train our first model. An epoch means one pass through the whole training data."
   ]
  },
  {
   "cell_type": "markdown",
   "metadata": {},
   "source": [
    "Here is a concise way to train the network. The fit function handles looping over the batches. We'll see a more verbose approach in the next notebook that allows more performance tuning."
   ]
  },
  {
   "cell_type": "markdown",
   "metadata": {},
   "source": [
    "You can run the code below multiple times and it will continue the training process from where it left off. If you want to start from scratch, re-initialize the model using the code a few cells ago."
   ]
  },
  {
   "cell_type": "code",
   "execution_count": 5,
   "metadata": {
    "scrolled": true
   },
   "outputs": [
    {
     "name": "stdout",
     "output_type": "stream",
     "text": [
      "Train on 60000 samples\n",
      "Epoch 1/30\n",
      "60000/60000 - 1s - loss: 1.8393 - accuracy: 0.4781\n",
      "Epoch 2/30\n",
      "60000/60000 - 0s - loss: 1.2810 - accuracy: 0.7407\n",
      "Epoch 3/30\n",
      "60000/60000 - 0s - loss: 1.0223 - accuracy: 0.7953\n",
      "Epoch 4/30\n",
      "60000/60000 - 0s - loss: 0.8796 - accuracy: 0.8170\n",
      "Epoch 5/30\n",
      "60000/60000 - 0s - loss: 0.7893 - accuracy: 0.8300\n",
      "Epoch 6/30\n",
      "60000/60000 - 0s - loss: 0.7267 - accuracy: 0.8389\n",
      "Epoch 7/30\n",
      "60000/60000 - 0s - loss: 0.6805 - accuracy: 0.8457\n",
      "Epoch 8/30\n",
      "60000/60000 - 0s - loss: 0.6448 - accuracy: 0.8506\n",
      "Epoch 9/30\n",
      "60000/60000 - 0s - loss: 0.6162 - accuracy: 0.8548\n",
      "Epoch 10/30\n",
      "60000/60000 - 0s - loss: 0.5927 - accuracy: 0.8579\n",
      "Epoch 11/30\n",
      "60000/60000 - 0s - loss: 0.5730 - accuracy: 0.8608\n",
      "Epoch 12/30\n",
      "60000/60000 - 0s - loss: 0.5562 - accuracy: 0.8637\n",
      "Epoch 13/30\n",
      "60000/60000 - 0s - loss: 0.5416 - accuracy: 0.8660\n",
      "Epoch 14/30\n",
      "60000/60000 - 0s - loss: 0.5289 - accuracy: 0.8681\n",
      "Epoch 15/30\n",
      "60000/60000 - 0s - loss: 0.5176 - accuracy: 0.8701\n",
      "Epoch 16/30\n",
      "60000/60000 - 0s - loss: 0.5075 - accuracy: 0.8720\n",
      "Epoch 17/30\n",
      "60000/60000 - 0s - loss: 0.4984 - accuracy: 0.8733\n",
      "Epoch 18/30\n",
      "60000/60000 - 0s - loss: 0.4902 - accuracy: 0.8747\n",
      "Epoch 19/30\n",
      "60000/60000 - 0s - loss: 0.4827 - accuracy: 0.8762\n",
      "Epoch 20/30\n",
      "60000/60000 - 0s - loss: 0.4759 - accuracy: 0.8777\n",
      "Epoch 21/30\n",
      "60000/60000 - 0s - loss: 0.4696 - accuracy: 0.8792\n",
      "Epoch 22/30\n",
      "60000/60000 - 0s - loss: 0.4637 - accuracy: 0.8801\n",
      "Epoch 23/30\n",
      "60000/60000 - 0s - loss: 0.4583 - accuracy: 0.8812\n",
      "Epoch 24/30\n",
      "60000/60000 - 0s - loss: 0.4533 - accuracy: 0.8820\n",
      "Epoch 25/30\n",
      "60000/60000 - 0s - loss: 0.4486 - accuracy: 0.8830\n",
      "Epoch 26/30\n",
      "60000/60000 - 0s - loss: 0.4442 - accuracy: 0.8837\n",
      "Epoch 27/30\n",
      "60000/60000 - 0s - loss: 0.4400 - accuracy: 0.8848\n",
      "Epoch 28/30\n",
      "60000/60000 - 0s - loss: 0.4361 - accuracy: 0.8857\n",
      "Epoch 29/30\n",
      "60000/60000 - 0s - loss: 0.4324 - accuracy: 0.8862\n",
      "Epoch 30/30\n",
      "60000/60000 - 0s - loss: 0.4289 - accuracy: 0.8869\n",
      "CPU times: user 28.3 s, sys: 1min 25s, total: 1min 54s\n",
      "Wall time: 10.3 s\n"
     ]
    }
   ],
   "source": [
    "%%time\n",
    "# This took about a third of a second per epoch on my laptop\n",
    "batch_size = 512\n",
    "epochs = 30\n",
    "history = linear_model.fit(x_train, y_train, batch_size=batch_size, epochs=epochs, verbose=2)"
   ]
  },
  {
   "cell_type": "code",
   "execution_count": 6,
   "metadata": {},
   "outputs": [
    {
     "name": "stdout",
     "output_type": "stream",
     "text": [
      "Model: \"linear_classifier\"\n",
      "_________________________________________________________________\n",
      "Layer (type)                 Output Shape              Param #   \n",
      "=================================================================\n",
      "dense (Dense)                multiple                  7850      \n",
      "=================================================================\n",
      "Total params: 7,850\n",
      "Trainable params: 7,850\n",
      "Non-trainable params: 0\n",
      "_________________________________________________________________\n",
      "None\n"
     ]
    }
   ],
   "source": [
    "print(linear_model.summary())"
   ]
  },
  {
   "cell_type": "markdown",
   "metadata": {},
   "source": [
    "The summary shows that there are 7850 parameters in our model, as the weight matrix is of size 785x10 (not 784, as there's an additional bias term)."
   ]
  },
  {
   "cell_type": "markdown",
   "metadata": {},
   "source": [
    "Let's now see how the training progressed. \n",
    "\n",
    "* *Loss* is a function of the difference of the network output and the target values.  We are minimizing the loss function during training so it should decrease over time.\n",
    "* *Accuracy* is the classification accuracy for the training data (100*accuracy is the percentage labeled correctly), so it should increase over time\n",
    "\n",
    "Note that for either measure, we cannot fully trust the progress, as the model may have overfitted and just memorized the training data."
   ]
  },
  {
   "cell_type": "code",
   "execution_count": 7,
   "metadata": {},
   "outputs": [
    {
     "data": {
      "image/png": "[encoded data removed]",
      "text/plain": [
       "<Figure size 360x216 with 1 Axes>"
      ]
     },
     "metadata": {
      "needs_background": "light"
     },
     "output_type": "display_data"
    },
    {
     "data": {
      "image/png": "[encoded data removed]",
      "text/plain": [
       "<Figure size 360x216 with 1 Axes>"
      ]
     },
     "metadata": {
      "needs_background": "light"
     },
     "output_type": "display_data"
    }
   ],
   "source": [
    "plt.figure(figsize=(5,3))\n",
    "plt.plot(history.epoch,history.history['loss'])\n",
    "plt.title('loss')\n",
    "\n",
    "plt.figure(figsize=(5,3))\n",
    "plt.plot(history.epoch,history.history['accuracy'])\n",
    "plt.title('accuracy');"
   ]
  },
  {
   "cell_type": "markdown",
   "metadata": {},
   "source": [
    "### Inference\n",
    "\n",
    "For a better measure of the quality of the model, let's see the model accuracy for the test data. "
   ]
  },
  {
   "cell_type": "code",
   "execution_count": 8,
   "metadata": {},
   "outputs": [
    {
     "name": "stdout",
     "output_type": "stream",
     "text": [
      "10000/1 - 0s - loss: 0.3516 - accuracy: 0.8942\n",
      "accuracy: 89.42%\n"
     ]
    }
   ],
   "source": [
    "linscores = linear_model.evaluate(x_test, y_test, verbose=2)\n",
    "print(\"%s: %.2f%%\" % (linear_model.metrics_names[1], linscores[1]*100))"
   ]
  },
  {
   "cell_type": "markdown",
   "metadata": {},
   "source": [
    "We can now take a closer look on the results.\n",
    "\n",
    "Let's define a helper function to show the failure cases of our classifier. "
   ]
  },
  {
   "cell_type": "code",
   "execution_count": 9,
   "metadata": {
    "jupyter": {
     "outputs_hidden": true
    }
   },
   "outputs": [],
   "source": [
    "def show_failures(predictions, trueclass=None, predictedclass=None, maxtoshow=10):\n",
    "    rounded = numpy.argmax(predictions, axis=1)\n",
    "    errors = rounded!=y_test\n",
    "    print('Showing max', maxtoshow, 'first failures. '\n",
    "          'The predicted class is shown first and the correct class in parenthesis.')\n",
    "    ii = 0\n",
    "    plt.figure(figsize=(maxtoshow, 1))\n",
    "    for i in range(x_test.shape[0]):\n",
    "        if ii>=maxtoshow:\n",
    "            break\n",
    "        if errors[i]:\n",
    "            if trueclass is not None and y_test[i] != trueclass:\n",
    "                continue\n",
    "            if predictedclass is not None and rounded[i] != predictedclass:\n",
    "                continue\n",
    "            plt.subplot(1, maxtoshow, ii+1)\n",
    "            plt.axis('off')\n",
    "            plt.imshow(x_test[i,:,:], cmap=\"gray\")\n",
    "            plt.title(\"%d (%d)\" % (rounded[i], y_test[i]))\n",
    "            ii = ii + 1"
   ]
  },
  {
   "cell_type": "markdown",
   "metadata": {},
   "source": [
    "Here are the first 10 test digits the linear model classified to a wrong class:"
   ]
  },
  {
   "cell_type": "code",
   "execution_count": 10,
   "metadata": {},
   "outputs": [
    {
     "name": "stdout",
     "output_type": "stream",
     "text": [
      "Showing max 10 first failures. The predicted class is shown first and the correct class in parenthesis.\n"
     ]
    },
    {
     "data": {
      "image/png": "[encoded data removed]",
      "text/plain": [
       "<Figure size 720x72 with 10 Axes>"
      ]
     },
     "metadata": {
      "needs_background": "light"
     },
     "output_type": "display_data"
    }
   ],
   "source": [
    "linpredictions = linear_model.predict(x_test)\n",
    "\n",
    "show_failures(linpredictions)"
   ]
  },
  {
   "cell_type": "markdown",
   "metadata": {},
   "source": [
    "## Multi-layer perceptron (MLP) network\n",
    "\n",
    "### Initialization\n",
    "\n",
    "Let's now create a more complex MLP model that has multiple layers, non-linear activation functions, and dropout layers. \n",
    "- A `Dense()` layer is a basic layer: $xA + b$ with an optional nonlinearity applied (\"activation function\"). The layers are \"densely\" connected (also called \"fully connected\") with a dense matrix.\n",
    "\n",
    "- `Dropout()` randomly sets a fraction of inputs to zero during training, which is one approach to regularization and can sometimes help to prevent overfitting. \n",
    "\n",
    "There are two options below, a simple and a bit more complex model.  Select either one.\n",
    "\n",
    "The output of the last layer needs to be a softmaxed 10-dimensional vector to match the groundtruth (`y_train`). "
   ]
  },
  {
   "cell_type": "code",
   "execution_count": 11,
   "metadata": {},
   "outputs": [],
   "source": [
    "class NonlinearClassifier(tf.keras.models.Model):\n",
    "\n",
    "    def __init__(self, activation=tf.nn.tanh):\n",
    "        tf.keras.models.Model.__init__(self)\n",
    "\n",
    "        self.layer_1 = tf.keras.layers.Dense(20, activation='relu')\n",
    "        \n",
    "        # A bit more complex model: (need to uncomment in call fn as well)\n",
    "        #self.layer_2 = tf.keras.layers.Dense(50, activation='relu')\n",
    "        #self.drop_3 = tf.keras.layers.Dropout(0.2)\n",
    "        #self.layer_4 = tf.keras.layers.Dense(50, activation='relu')\n",
    "        #self.drop_5 = tf.keras.layers.Dropout(0.2)\n",
    "        \n",
    "        # The last layer needs to be like this:\n",
    "        self.layer_out = tf.keras.layers.Dense(10, activation='softmax')\n",
    "\n",
    "\n",
    "    def call(self, inputs):\n",
    "\n",
    "        x = tf.keras.layers.Flatten()(inputs)\n",
    "        x = self.layer_1(x)\n",
    "        \n",
    "        # The more complex version:\n",
    "        #x = self.layer_2(x)\n",
    "        #x = self.drop_3(x)\n",
    "        #x = self.layer_4(x)\n",
    "        #x = self.drop_5(x)\n",
    "        \n",
    "        x = self.layer_out(x)\n",
    "\n",
    "        return x"
   ]
  },
  {
   "cell_type": "markdown",
   "metadata": {},
   "source": [
    "Finally, we again `compile()` the model, this time using [*RMSProp*](https://keras.io/optimizers/#rmsprop) as the optimizer."
   ]
  },
  {
   "cell_type": "code",
   "execution_count": 12,
   "metadata": {},
   "outputs": [],
   "source": [
    "nonlinear_model = NonlinearClassifier()\n",
    "\n",
    "nonlinear_model.compile(loss=\"sparse_categorical_crossentropy\", optimizer=\"rmsprop\", metrics=['accuracy'])"
   ]
  },
  {
   "cell_type": "markdown",
   "metadata": {},
   "source": [
    "### Learning"
   ]
  },
  {
   "cell_type": "code",
   "execution_count": 13,
   "metadata": {
    "scrolled": true
   },
   "outputs": [
    {
     "name": "stdout",
     "output_type": "stream",
     "text": [
      "Train on 60000 samples\n",
      "Epoch 1/30\n",
      "60000/60000 - 1s - loss: 0.8545 - accuracy: 0.7829\n",
      "Epoch 2/30\n",
      "60000/60000 - 0s - loss: 0.3633 - accuracy: 0.9024\n",
      "Epoch 3/30\n",
      "60000/60000 - 0s - loss: 0.2964 - accuracy: 0.9175\n",
      "Epoch 4/30\n",
      "60000/60000 - 0s - loss: 0.2644 - accuracy: 0.9257\n",
      "Epoch 5/30\n",
      "60000/60000 - 0s - loss: 0.2422 - accuracy: 0.9327\n",
      "Epoch 6/30\n",
      "60000/60000 - 0s - loss: 0.2252 - accuracy: 0.9366\n",
      "Epoch 7/30\n",
      "60000/60000 - 0s - loss: 0.2119 - accuracy: 0.9403\n",
      "Epoch 8/30\n",
      "60000/60000 - 0s - loss: 0.2011 - accuracy: 0.9428\n",
      "Epoch 9/30\n",
      "60000/60000 - 0s - loss: 0.1922 - accuracy: 0.9461\n",
      "Epoch 10/30\n",
      "60000/60000 - 0s - loss: 0.1839 - accuracy: 0.9477\n",
      "Epoch 11/30\n",
      "60000/60000 - 0s - loss: 0.1775 - accuracy: 0.9500\n",
      "Epoch 12/30\n",
      "60000/60000 - 0s - loss: 0.1709 - accuracy: 0.9516\n",
      "Epoch 13/30\n",
      "60000/60000 - 0s - loss: 0.1654 - accuracy: 0.9535\n",
      "Epoch 14/30\n",
      "60000/60000 - 0s - loss: 0.1604 - accuracy: 0.9546\n",
      "Epoch 15/30\n",
      "60000/60000 - 0s - loss: 0.1556 - accuracy: 0.9563\n",
      "Epoch 16/30\n",
      "60000/60000 - 0s - loss: 0.1518 - accuracy: 0.9575\n",
      "Epoch 17/30\n",
      "60000/60000 - 0s - loss: 0.1478 - accuracy: 0.9581\n",
      "Epoch 18/30\n",
      "60000/60000 - 0s - loss: 0.1443 - accuracy: 0.9585\n",
      "Epoch 19/30\n",
      "60000/60000 - 0s - loss: 0.1411 - accuracy: 0.9598\n",
      "Epoch 20/30\n",
      "60000/60000 - 0s - loss: 0.1379 - accuracy: 0.9603\n",
      "Epoch 21/30\n",
      "60000/60000 - 0s - loss: 0.1354 - accuracy: 0.9610\n",
      "Epoch 22/30\n",
      "60000/60000 - 0s - loss: 0.1325 - accuracy: 0.9621\n",
      "Epoch 23/30\n",
      "60000/60000 - 0s - loss: 0.1302 - accuracy: 0.9625\n",
      "Epoch 24/30\n",
      "60000/60000 - 0s - loss: 0.1274 - accuracy: 0.9630\n",
      "Epoch 25/30\n",
      "60000/60000 - 0s - loss: 0.1251 - accuracy: 0.9642\n",
      "Epoch 26/30\n",
      "60000/60000 - 1s - loss: 0.1229 - accuracy: 0.9648\n",
      "Epoch 27/30\n",
      "60000/60000 - 0s - loss: 0.1210 - accuracy: 0.9654\n",
      "Epoch 28/30\n",
      "60000/60000 - 0s - loss: 0.1192 - accuracy: 0.9662\n",
      "Epoch 29/30\n",
      "60000/60000 - 0s - loss: 0.1171 - accuracy: 0.9664\n",
      "Epoch 30/30\n",
      "60000/60000 - 1s - loss: 0.1158 - accuracy: 0.9674\n",
      "CPU times: user 41.2 s, sys: 2min 4s, total: 2min 45s\n",
      "Wall time: 15.1 s\n"
     ]
    }
   ],
   "source": [
    "%%time\n",
    "# This took around half a second per epoch on my laptop for the simpler version, \n",
    "# and around 1 second per epoch for the more complex one.\n",
    "batch_size = 512\n",
    "epochs = 30\n",
    "history = nonlinear_model.fit(x_train, y_train, batch_size=batch_size, epochs=epochs, verbose=2)"
   ]
  },
  {
   "cell_type": "code",
   "execution_count": 14,
   "metadata": {},
   "outputs": [
    {
     "data": {
      "image/png": "[encoded data removed]",
      "text/plain": [
       "<Figure size 360x216 with 1 Axes>"
      ]
     },
     "metadata": {
      "needs_background": "light"
     },
     "output_type": "display_data"
    },
    {
     "data": {
      "image/png": "[encoded data removed]",
      "text/plain": [
       "<Figure size 360x216 with 1 Axes>"
      ]
     },
     "metadata": {
      "needs_background": "light"
     },
     "output_type": "display_data"
    }
   ],
   "source": [
    "plt.figure(figsize=(5,3))\n",
    "plt.plot(history.epoch,history.history['loss'])\n",
    "plt.title('loss')\n",
    "\n",
    "plt.figure(figsize=(5,3))\n",
    "plt.plot(history.epoch,history.history['accuracy'])\n",
    "plt.title('accuracy');"
   ]
  },
  {
   "cell_type": "markdown",
   "metadata": {},
   "source": [
    "### Inference\n",
    "\n",
    "Accuracy for test data.  The model should be better than the linear model. "
   ]
  },
  {
   "cell_type": "code",
   "execution_count": 15,
   "metadata": {},
   "outputs": [
    {
     "name": "stdout",
     "output_type": "stream",
     "text": [
      "10000/1 - 1s - loss: 0.0807 - accuracy: 0.9556\n",
      "accuracy: 95.56%\n",
      "CPU times: user 1.19 s, sys: 3.26 s, total: 4.46 s\n",
      "Wall time: 613 ms\n"
     ]
    }
   ],
   "source": [
    "%%time\n",
    "scores = nonlinear_model.evaluate(x_test, y_test, verbose=2)\n",
    "print(\"%s: %.2f%%\" % (nonlinear_model.metrics_names[1], scores[1]*100))"
   ]
  },
  {
   "cell_type": "markdown",
   "metadata": {},
   "source": [
    "We can again take a closer look on the results, using the `show_failures()` function defined earlier.\n",
    "\n",
    "Here are the first 10 test digits the MLP classified to a wrong class:"
   ]
  },
  {
   "cell_type": "code",
   "execution_count": 16,
   "metadata": {},
   "outputs": [
    {
     "name": "stdout",
     "output_type": "stream",
     "text": [
      "Showing max 10 first failures. The predicted class is shown first and the correct class in parenthesis.\n"
     ]
    },
    {
     "data": {
      "image/png": "[encoded data removed]",
      "text/plain": [
       "<Figure size 720x72 with 10 Axes>"
      ]
     },
     "metadata": {
      "needs_background": "light"
     },
     "output_type": "display_data"
    }
   ],
   "source": [
    "predictions = nonlinear_model.predict(x_test)\n",
    "\n",
    "show_failures(predictions)"
   ]
  },
  {
   "cell_type": "markdown",
   "metadata": {},
   "source": [
    "We can use `show_failures()` to inspect failures in more detail. For example, here are failures in which the true class was \"6\":"
   ]
  },
  {
   "cell_type": "code",
   "execution_count": 17,
   "metadata": {},
   "outputs": [
    {
     "name": "stdout",
     "output_type": "stream",
     "text": [
      "Showing max 10 first failures. The predicted class is shown first and the correct class in parenthesis.\n"
     ]
    },
    {
     "data": {
      "image/png": "[encoded data removed]",
      "text/plain": [
       "<Figure size 720x72 with 10 Axes>"
      ]
     },
     "metadata": {
      "needs_background": "light"
     },
     "output_type": "display_data"
    }
   ],
   "source": [
    "show_failures(predictions, trueclass=6)"
   ]
  },
  {
   "cell_type": "markdown",
   "metadata": {},
   "source": [
    "We can also compute the confusion matrix to see which digits get mixed the most, and look at classification accuracies separately for each class:"
   ]
  },
  {
   "cell_type": "code",
   "execution_count": 18,
   "metadata": {},
   "outputs": [
    {
     "name": "stdout",
     "output_type": "stream",
     "text": [
      "Confusion matrix (rows: true classes; columns: predicted classes):\n",
      "\n",
      "[[ 962    0    4    1    1    1    9    1    1    0]\n",
      " [   0 1119    4    0    0    2    4    1    5    0]\n",
      " [   8    1  977    8    5    1    7   10   14    1]\n",
      " [   1    5    9  964    3    8    0   10    5    5]\n",
      " [   1    1    8    2  923    0    8    5    5   29]\n",
      " [   4    2    1   21    3  829    9    3   15    5]\n",
      " [   8    3    0    0    4    6  932    1    4    0]\n",
      " [   1    2   15   14    0    0    0  981    4   11]\n",
      " [   2    2    6   17    5    6    8    7  919    2]\n",
      " [   2    6    3   15   15    4    1    9    4  950]]\n",
      "\n",
      "Classification accuracy for each class:\n",
      "\n",
      "0: 0.9816\n",
      "1: 0.9859\n",
      "2: 0.9467\n",
      "3: 0.9545\n",
      "4: 0.9399\n",
      "5: 0.9294\n",
      "6: 0.9729\n",
      "7: 0.9543\n",
      "8: 0.9435\n",
      "9: 0.9415\n"
     ]
    }
   ],
   "source": [
    "from sklearn.metrics import confusion_matrix\n",
    "\n",
    "print('Confusion matrix (rows: true classes; columns: predicted classes):'); print()\n",
    "cm=confusion_matrix(y_test, numpy.argmax(predictions, axis=1), labels=list(range(10)))\n",
    "print(cm); print()\n",
    "\n",
    "print('Classification accuracy for each class:'); print()\n",
    "for i,j in enumerate(cm.diagonal()/cm.sum(axis=1)): print(\"%d: %.4f\" % (i,j))"
   ]
  },
  {
   "cell_type": "markdown",
   "metadata": {},
   "source": [
    "In the next notebook, we'll introduce convolutional layers, which are commonly used for images."
   ]
  }
 ],
 "metadata": {
  "kernelspec": {
   "display_name": "Python 3",
   "language": "python",
   "name": "python3"
  },
  "language_info": {
   "codemirror_mode": {
    "name": "ipython",
    "version": 3
   },
   "file_extension": ".py",
   "mimetype": "text/x-python",
   "name": "python",
   "nbconvert_exporter": "python",
   "pygments_lexer": "ipython3",
   "version": "3.7.7"
  }
 },
 "nbformat": 4,
 "nbformat_minor": 4
}
